{
 "cells": [
  {
   "cell_type": "markdown",
   "metadata": {},
   "source": [
    "# Simplex Example\n",
    "### EE 578B  - Winter 2021"
   ]
  },
  {
   "cell_type": "markdown",
   "metadata": {},
   "source": [
    "\\begin{align*}\n",
    "r = \\begin{bmatrix} 1 & 1 & 1 & 0 &0 & 0 & 0 & 0 \\end{bmatrix}, \\quad\n",
    "A = \\begin{bmatrix} 0 & 0 & 1 & 0 & 0& 0 & 0 & 0 \\\\\n",
    "                  1 & 0 & 0 & 1 & 0& 0 & 0 & 0 \\\\\n",
    "                  0 & 1 & 0 & 0 & 1 & 0 & 0 & 0 \\\\\n",
    "                  0 & 0 & 1 & 0 & 0 & 1 & 0 & 0 \\\\\n",
    "                  -1& 1 & 0 & 0 & 0 & 0 & 1 & 0 \\\\\n",
    "                   1 &-1 & 0 & 0 & 0 & 0 & 0 & 1 \\end{bmatrix} \\quad\n",
    "b = \\begin{bmatrix} 1 \\\\ 2 \\\\2 \\\\3 \\\\ 1 \\\\ 1 \\end{bmatrix}\n",
    "\\end{align*}\n",
    "\n",
    "## Note:  in lecture there were some sign mistakes in the last 2 rows of A which is why things didn't work.\n",
    "\n",
    "\n",
    "## Initial Tableau\n",
    "\n",
    "\\begin{align*}\n",
    "T  =\n",
    "\\begin{bmatrix}\n",
    "1 & -r^T & 0 \\\\\n",
    "0 & A & b \n",
    "\\end{bmatrix}\n",
    "=\n",
    "\\begin{bmatrix} 1 &- 1 & -1 & -1 & 0 &0 & 0 & 0 & 0 & 0 \\\\\n",
    "                  0 & 0 & 0 & 1 & 0 & 0& 0 & 0 & 0 & 1 \\\\\n",
    "                  0 & 1 & 0 & 0 & 1 & 0& 0 & 0 & 0 & 2 \\\\\n",
    "                  0 & 0 & 1 & 0 & 0 & 1 & 0 & 0 & 0 & 2 \\\\\n",
    "                  0 & 0 & 0 & 1 & 0 & 0 & 1 & 0 & 0 & 3 \\\\\n",
    "                  0 & -1& 1 & 0 & 0 & 0 & 0 & 1 & 0 & 1 \\\\\n",
    "                  0 &  1 &-1 & 0 & 0 & 0 & 0 & 0 & 1 & 1 \\end{bmatrix}\n",
    "\\end{align*}\n",
    "\n",
    "\n",
    "# NOTE: rows will be ZERO INDEXED in notes...\n",
    "# ALSO: B\n",
    "\n"
   ]
  },
  {
   "cell_type": "markdown",
   "metadata": {},
   "source": [
    "## Note: General way to find an initial feasible solution \n",
    "### In the general, case where an initial feasible solution is not obvious, we temporarily add an extra set of slack variables to form the tableau...\n",
    "\\begin{align*}\n",
    "T_{\\text{init}} = \\begin{bmatrix}\n",
    "1 & \\mathbf{1}^T & \\mathbf{0}^T & 0 \\\\\n",
    "\\mathbf{0}& I & A & b\n",
    "\\end{bmatrix}\n",
    "\\end{align*}\n",
    "\n",
    "### and take the initial slack variable columns as the solution.  The objective function in this tableau represents trying to minimize the sum of the slack variables.  We then perform row operations till the added columns are no longer basis columns.  "
   ]
  },
  {
   "cell_type": "code",
   "execution_count": 116,
   "metadata": {},
   "outputs": [
    {
     "name": "stdout",
     "output_type": "stream",
     "text": [
      "       z1  z2  z3  s1  s2  s3  s4  s5  b\n",
      "[[ 1. -1. -1. -1. -0. -0. -0. -0. -0.  0.]\n",
      " [ 0.  0.  0.  1.  0.  0.  0.  0.  0.  1.]\n",
      " [ 0.  1.  0.  0.  1.  0.  0.  0.  0.  2.]\n",
      " [ 0.  0.  1.  0.  0.  1.  0.  0.  0.  2.]\n",
      " [ 0.  0.  0.  1.  0.  0.  1.  0.  0.  3.]\n",
      " [ 0. -1.  1.  0.  0.  0.  0.  1.  0.  1.]\n",
      " [ 0.  1. -1.  0.  0.  0.  0.  0.  1.  1.]]\n"
     ]
    }
   ],
   "source": [
    "import numpy as np\n",
    "r = np.array([1.,1.,1.,0.,0.,0.,0.,0.]);\n",
    "b = np.array([[1.,2.,2.,3.,1.,1.]]).T;\n",
    "A = np.array([[0.,0.,1.,0.,0.,0.,0.,0. ],\n",
    "              [1.,0.,0.,1.,0.,0.,0.,0. ],\n",
    "              [0.,1.,0.,0.,1.,0.,0.,0. ],\n",
    "              [0.,0.,1.,0.,0.,1.,0.,0. ],\n",
    "              [-1.,1.,0.,0.,0.,0.,1.,0.],\n",
    "              [ 1.,-1.,0.,0.,0.,0.,0.,1.]]);\n",
    "\n",
    "T = np.block([[1.,-r,0],\n",
    "              [np.zeros([6,1]),A,b]]);\n",
    "col_labels = '       z1  z2  z3  s1  s2  s3  s4  s5  b'\n",
    "print(col_labels)\n",
    "print(T)"
   ]
  },
  {
   "cell_type": "markdown",
   "metadata": {},
   "source": [
    "### Finding an initial identity  - feasible solution\n",
    "... row 4 = row4 - row 1 <br />\n",
    "and cashing out... <br />\n",
    "... row 0 = row0 + row1"
   ]
  },
  {
   "cell_type": "code",
   "execution_count": 117,
   "metadata": {},
   "outputs": [
    {
     "name": "stdout",
     "output_type": "stream",
     "text": [
      "       z1  z2  z3  s1  s2  s3  s4  s5  b\n",
      "[[ 1. -1. -1.  0.  0.  0.  0.  0.  0.  1.]\n",
      " [ 0.  0.  0.  1.  0.  0.  0.  0.  0.  1.]\n",
      " [ 0.  1.  0.  0.  1.  0.  0.  0.  0.  2.]\n",
      " [ 0.  0.  1.  0.  0.  1.  0.  0.  0.  2.]\n",
      " [ 0.  0.  0.  0.  0.  0.  1.  0.  0.  2.]\n",
      " [ 0. -1.  1.  0.  0.  0.  0.  1.  0.  1.]\n",
      " [ 0.  1. -1.  0.  0.  0.  0.  0.  1.  1.]]\n",
      "Current reward:  1.0\n",
      "Basis columns: z3 s1  s2  s3  s4  s5\n"
     ]
    }
   ],
   "source": [
    "T[4] = T[4] - T[1]\n",
    "T[0] = T[0] + T[1]\n",
    "print(col_labels)\n",
    "print(T)\n",
    "print('Current reward: ',T[0,-1])\n",
    "print('Basis columns: z3 s1  s2  s3  s4  s5')"
   ]
  },
  {
   "cell_type": "markdown",
   "metadata": {},
   "source": [
    "# Add column z2...\n",
    "Column z1 or z2 will improve solution since objective row values is negative... <br />\n",
    "Row 3 or Row 5 are initially options to swap in (because values in z2 column are positive) <br />\n",
    "Considering ratio with values in b column gives that Row 5 is the only option <br />\n",
    "Row reduce z2 column to identity <br />\n",
    "...row 3 = row 3 - row 5  <br />\n",
    "...row 6 = row 6 + row 5 <br />\n",
    "cash out...<br />\n",
    "...row 0 = row0 + row 5"
   ]
  },
  {
   "cell_type": "code",
   "execution_count": 118,
   "metadata": {},
   "outputs": [
    {
     "name": "stdout",
     "output_type": "stream",
     "text": [
      "       z1  z2  z3  s1  s2  s3  s4  s5  b\n",
      "[[ 1. -2.  0.  0.  0.  0.  0.  1.  0.  2.]\n",
      " [ 0.  0.  0.  1.  0.  0.  0.  0.  0.  1.]\n",
      " [ 0.  1.  0.  0.  1.  0.  0.  0.  0.  2.]\n",
      " [ 0.  1.  0.  0.  0.  1.  0. -1.  0.  1.]\n",
      " [ 0.  0.  0.  0.  0.  0.  1.  0.  0.  2.]\n",
      " [ 0. -1.  1.  0.  0.  0.  0.  1.  0.  1.]\n",
      " [ 0.  0.  0.  0.  0.  0.  0.  1.  1.  2.]]\n",
      "Current reward:  2.0\n",
      "Basis columns: z2 z3 s1 s2 s3 s5\n"
     ]
    }
   ],
   "source": [
    "T[3] = T[3] - T[5]\n",
    "T[6] = T[6] + T[5]\n",
    "T[0] = T[0] + T[5]\n",
    "print(col_labels)\n",
    "print(T)\n",
    "print('Current reward: ',T[0,-1])\n",
    "print('Basis columns: z2 z3 s1 s2 s3 s5')"
   ]
  },
  {
   "cell_type": "markdown",
   "metadata": {},
   "source": [
    "# Add column z1...\n",
    "Only option add Column z1... <br />\n",
    "Row 2 or Row 3 are initially options to swap in <br />\n",
    "Ratio with b column values gives only row3 is possible... <br />\n",
    "Row reduce z1 column to identity <br />\n",
    "...row 2 = row 2 - row 3  <br />\n",
    "...row 5 = row 5 + row 3 <br />\n",
    "cash out...<br />\n",
    "...row 0 = row0 + row 6"
   ]
  },
  {
   "cell_type": "code",
   "execution_count": 119,
   "metadata": {
    "scrolled": true
   },
   "outputs": [
    {
     "name": "stdout",
     "output_type": "stream",
     "text": [
      "       z1  z2  z3  s1  s2  s3  s4  s5  b\n",
      "[[ 1.  0.  0.  0.  0.  2.  0. -1.  0.  4.]\n",
      " [ 0.  0.  0.  1.  0.  0.  0.  0.  0.  1.]\n",
      " [ 0.  0.  0.  0.  1. -1.  0.  1.  0.  1.]\n",
      " [ 0.  1.  0.  0.  0.  1.  0. -1.  0.  1.]\n",
      " [ 0.  0.  0.  0.  0.  0.  1.  0.  0.  2.]\n",
      " [ 0.  0.  1.  0.  0.  1.  0.  0.  0.  2.]\n",
      " [ 0.  0.  0.  0.  0.  0.  0.  1.  1.  2.]]\n",
      "Current reward:  4.0\n",
      "Basis columns: z1 z2 z3 s1 s3 s5\n"
     ]
    }
   ],
   "source": [
    "T[2] = T[2] - T[3]\n",
    "T[5] = T[5] + T[3]\n",
    "T[0] = T[0] + 2*T[3]\n",
    "print(col_labels)\n",
    "print(T)\n",
    "print('Current reward: ',T[0,-1])\n",
    "print('Basis columns: z1 z2 z3 s1 s3 s5')"
   ]
  },
  {
   "cell_type": "markdown",
   "metadata": {},
   "source": [
    "# Add column s4...\n",
    "Only option add Column s4... <br />\n",
    "Row 2 or Row 6 are initially options to swap in <br />\n",
    "Ratio with b column values gives only row 2 is possible... <br />\n",
    "Row reduce s4 column to identity <br />\n",
    "...row 3 = row 3 + row 2  <br />\n",
    "...row 6 = row 6 - row 2 <br />\n",
    "cash out...<br />\n",
    "...row 0 = row0 + row 2"
   ]
  },
  {
   "cell_type": "code",
   "execution_count": 120,
   "metadata": {
    "scrolled": true
   },
   "outputs": [
    {
     "name": "stdout",
     "output_type": "stream",
     "text": [
      "       z1  z2  z3  s1  s2  s3  s4  s5  b\n",
      "[[ 1.  0.  0.  0.  1.  1.  0.  0.  0.  5.]\n",
      " [ 0.  0.  0.  1.  0.  0.  0.  0.  0.  1.]\n",
      " [ 0.  0.  0.  0.  1. -1.  0.  1.  0.  1.]\n",
      " [ 0.  1.  0.  0.  1.  0.  0.  0.  0.  2.]\n",
      " [ 0.  0.  0.  0.  0.  0.  1.  0.  0.  2.]\n",
      " [ 0.  0.  1.  0.  0.  1.  0.  0.  0.  2.]\n",
      " [ 0.  0.  0.  0. -1.  1.  0.  0.  1.  1.]]\n",
      "Current reward:  5.0\n",
      "Basis columns: z1 z2 z3 s3  s4  s5\n"
     ]
    }
   ],
   "source": [
    "T[3] = T[3] + T[2]\n",
    "T[6] = T[6] - T[2]\n",
    "T[0] = T[0] + T[2]\n",
    "print(col_labels)\n",
    "print(T)\n",
    "print('Current reward: ',T[0,-1])\n",
    "print('Basis columns: z1 z2 z3 s3  s4  s5')"
   ]
  },
  {
   "cell_type": "code",
   "execution_count": null,
   "metadata": {},
   "outputs": [],
   "source": []
  }
 ],
 "metadata": {
  "kernelspec": {
   "display_name": "Python 3",
   "language": "python",
   "name": "python3"
  },
  "language_info": {
   "codemirror_mode": {
    "name": "ipython",
    "version": 3
   },
   "file_extension": ".py",
   "mimetype": "text/x-python",
   "name": "python",
   "nbconvert_exporter": "python",
   "pygments_lexer": "ipython3",
   "version": "3.6.8"
  }
 },
 "nbformat": 4,
 "nbformat_minor": 2
}
